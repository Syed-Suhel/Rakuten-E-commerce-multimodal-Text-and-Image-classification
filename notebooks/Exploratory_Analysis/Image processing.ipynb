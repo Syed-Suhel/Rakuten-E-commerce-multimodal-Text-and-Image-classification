{
 "cells": [
  {
   "cell_type": "markdown",
   "metadata": {},
   "source": [
    "Importing images from the image folder and Creating a dataframe with image names and image path in columns"
   ]
  },
  {
   "cell_type": "code",
   "execution_count": 6,
   "metadata": {},
   "outputs": [
    {
     "data": {
      "text/html": [
       "<div>\n",
       "<style scoped>\n",
       "    .dataframe tbody tr th:only-of-type {\n",
       "        vertical-align: middle;\n",
       "    }\n",
       "\n",
       "    .dataframe tbody tr th {\n",
       "        vertical-align: top;\n",
       "    }\n",
       "\n",
       "    .dataframe thead th {\n",
       "        text-align: right;\n",
       "    }\n",
       "</style>\n",
       "<table border=\"1\" class=\"dataframe\">\n",
       "  <thead>\n",
       "    <tr style=\"text-align: right;\">\n",
       "      <th></th>\n",
       "      <th>image_name</th>\n",
       "      <th>image_path</th>\n",
       "    </tr>\n",
       "  </thead>\n",
       "  <tbody>\n",
       "    <tr>\n",
       "      <th>0</th>\n",
       "      <td>image_1000076039_product_580161.jpg</td>\n",
       "      <td>C:/Users/PC/Desktop/Bala/Datascientest/Rakuton...</td>\n",
       "    </tr>\n",
       "    <tr>\n",
       "      <th>1</th>\n",
       "      <td>image_1000089455_product_348990858.jpg</td>\n",
       "      <td>C:/Users/PC/Desktop/Bala/Datascientest/Rakuton...</td>\n",
       "    </tr>\n",
       "    <tr>\n",
       "      <th>2</th>\n",
       "      <td>image_1000092894_product_353108104.jpg</td>\n",
       "      <td>C:/Users/PC/Desktop/Bala/Datascientest/Rakuton...</td>\n",
       "    </tr>\n",
       "    <tr>\n",
       "      <th>3</th>\n",
       "      <td>image_1000093804_product_343306951.jpg</td>\n",
       "      <td>C:/Users/PC/Desktop/Bala/Datascientest/Rakuton...</td>\n",
       "    </tr>\n",
       "    <tr>\n",
       "      <th>4</th>\n",
       "      <td>image_1000095646_product_344209267.jpg</td>\n",
       "      <td>C:/Users/PC/Desktop/Bala/Datascientest/Rakuton...</td>\n",
       "    </tr>\n",
       "  </tbody>\n",
       "</table>\n",
       "</div>"
      ],
      "text/plain": [
       "                               image_name  \\\n",
       "0     image_1000076039_product_580161.jpg   \n",
       "1  image_1000089455_product_348990858.jpg   \n",
       "2  image_1000092894_product_353108104.jpg   \n",
       "3  image_1000093804_product_343306951.jpg   \n",
       "4  image_1000095646_product_344209267.jpg   \n",
       "\n",
       "                                          image_path  \n",
       "0  C:/Users/PC/Desktop/Bala/Datascientest/Rakuton...  \n",
       "1  C:/Users/PC/Desktop/Bala/Datascientest/Rakuton...  \n",
       "2  C:/Users/PC/Desktop/Bala/Datascientest/Rakuton...  \n",
       "3  C:/Users/PC/Desktop/Bala/Datascientest/Rakuton...  \n",
       "4  C:/Users/PC/Desktop/Bala/Datascientest/Rakuton...  "
      ]
     },
     "execution_count": 6,
     "metadata": {},
     "output_type": "execute_result"
    }
   ],
   "source": [
    "import os \n",
    "import pandas as pd \n",
    "# Defining image folder path \n",
    "image_folder = 'C:/Users/PC/Desktop/Bala/Datascientest/Rakuton/project/Image model/Image processing and cropping/image_train' \n",
    "\n",
    "image_files = [f for f in os.listdir(image_folder) if f.endswith('.jpg')] \n",
    "\n",
    "# Creating a dataframe with image names and paths \n",
    "df_image = pd.DataFrame({ 'image_name': image_files, 'image_path': [os.path.join(image_folder, f) for f in image_files] }) \n",
    "\n",
    "df_image.head()"
   ]
  },
  {
   "cell_type": "code",
   "execution_count": 7,
   "metadata": {},
   "outputs": [
    {
     "name": "stdout",
     "output_type": "stream",
     "text": [
      "<class 'pandas.core.frame.DataFrame'>\n",
      "RangeIndex: 84916 entries, 0 to 84915\n",
      "Data columns (total 2 columns):\n",
      " #   Column      Non-Null Count  Dtype \n",
      "---  ------      --------------  ----- \n",
      " 0   image_name  84916 non-null  object\n",
      " 1   image_path  84916 non-null  object\n",
      "dtypes: object(2)\n",
      "memory usage: 1.3+ MB\n"
     ]
    }
   ],
   "source": [
    "df_image.info()"
   ]
  },
  {
   "cell_type": "markdown",
   "metadata": {},
   "source": [
    "Extracting product ID and image ID from image names"
   ]
  },
  {
   "cell_type": "code",
   "execution_count": 8,
   "metadata": {},
   "outputs": [
    {
     "data": {
      "text/html": [
       "<div>\n",
       "<style scoped>\n",
       "    .dataframe tbody tr th:only-of-type {\n",
       "        vertical-align: middle;\n",
       "    }\n",
       "\n",
       "    .dataframe tbody tr th {\n",
       "        vertical-align: top;\n",
       "    }\n",
       "\n",
       "    .dataframe thead th {\n",
       "        text-align: right;\n",
       "    }\n",
       "</style>\n",
       "<table border=\"1\" class=\"dataframe\">\n",
       "  <thead>\n",
       "    <tr style=\"text-align: right;\">\n",
       "      <th></th>\n",
       "      <th>image_name</th>\n",
       "      <th>image_path</th>\n",
       "      <th>productid</th>\n",
       "      <th>imageid</th>\n",
       "    </tr>\n",
       "  </thead>\n",
       "  <tbody>\n",
       "    <tr>\n",
       "      <th>0</th>\n",
       "      <td>image_1000076039_product_580161.jpg</td>\n",
       "      <td>C:/Users/PC/Desktop/Bala/Datascientest/Rakuton...</td>\n",
       "      <td>580161</td>\n",
       "      <td>1000076039</td>\n",
       "    </tr>\n",
       "    <tr>\n",
       "      <th>1</th>\n",
       "      <td>image_1000089455_product_348990858.jpg</td>\n",
       "      <td>C:/Users/PC/Desktop/Bala/Datascientest/Rakuton...</td>\n",
       "      <td>348990858</td>\n",
       "      <td>1000089455</td>\n",
       "    </tr>\n",
       "    <tr>\n",
       "      <th>2</th>\n",
       "      <td>image_1000092894_product_353108104.jpg</td>\n",
       "      <td>C:/Users/PC/Desktop/Bala/Datascientest/Rakuton...</td>\n",
       "      <td>353108104</td>\n",
       "      <td>1000092894</td>\n",
       "    </tr>\n",
       "    <tr>\n",
       "      <th>3</th>\n",
       "      <td>image_1000093804_product_343306951.jpg</td>\n",
       "      <td>C:/Users/PC/Desktop/Bala/Datascientest/Rakuton...</td>\n",
       "      <td>343306951</td>\n",
       "      <td>1000093804</td>\n",
       "    </tr>\n",
       "    <tr>\n",
       "      <th>4</th>\n",
       "      <td>image_1000095646_product_344209267.jpg</td>\n",
       "      <td>C:/Users/PC/Desktop/Bala/Datascientest/Rakuton...</td>\n",
       "      <td>344209267</td>\n",
       "      <td>1000095646</td>\n",
       "    </tr>\n",
       "  </tbody>\n",
       "</table>\n",
       "</div>"
      ],
      "text/plain": [
       "                               image_name  \\\n",
       "0     image_1000076039_product_580161.jpg   \n",
       "1  image_1000089455_product_348990858.jpg   \n",
       "2  image_1000092894_product_353108104.jpg   \n",
       "3  image_1000093804_product_343306951.jpg   \n",
       "4  image_1000095646_product_344209267.jpg   \n",
       "\n",
       "                                          image_path  productid     imageid  \n",
       "0  C:/Users/PC/Desktop/Bala/Datascientest/Rakuton...     580161  1000076039  \n",
       "1  C:/Users/PC/Desktop/Bala/Datascientest/Rakuton...  348990858  1000089455  \n",
       "2  C:/Users/PC/Desktop/Bala/Datascientest/Rakuton...  353108104  1000092894  \n",
       "3  C:/Users/PC/Desktop/Bala/Datascientest/Rakuton...  343306951  1000093804  \n",
       "4  C:/Users/PC/Desktop/Bala/Datascientest/Rakuton...  344209267  1000095646  "
      ]
     },
     "execution_count": 8,
     "metadata": {},
     "output_type": "execute_result"
    }
   ],
   "source": [
    "df_image['productid'] = df_image['image_name'].str.split('ct_').str[-1]\n",
    "df_image['productid'] = df_image['productid'].str.split('.jpg').str[0]\n",
    "\n",
    "df_image['imageid'] = df_image['image_name'].str.split('image_').str[-1]\n",
    "df_image['imageid'] = df_image['imageid'].str.split('_p').str[0]\n",
    "\n",
    "df_image.head()"
   ]
  },
  {
   "cell_type": "markdown",
   "metadata": {},
   "source": [
    "Spliting dataframe into 4 parts"
   ]
  },
  {
   "cell_type": "code",
   "execution_count": 9,
   "metadata": {},
   "outputs": [
    {
     "name": "stderr",
     "output_type": "stream",
     "text": [
      "c:\\Users\\PC\\Desktop\\Bala\\Datascientest\\Rakuton\\project\\venv\\Lib\\site-packages\\numpy\\core\\fromnumeric.py:59: FutureWarning: 'DataFrame.swapaxes' is deprecated and will be removed in a future version. Please use 'DataFrame.transpose' instead.\n",
      "  return bound(*args, **kwds)\n"
     ]
    }
   ],
   "source": [
    "#since the file is huge, we split the data into 4 parts and get information on image dimension, pixel, non-image from individual files and merge it later\n",
    "import numpy as np\n",
    "# Split columns into 4 parts\n",
    "row_splits = np.array_split(df_image, 4)  # axis=1 for rowwise split\n",
    "\n",
    "# Access column splits like this:\n",
    "df1, df2, df3, df4 = row_splits"
   ]
  },
  {
   "cell_type": "markdown",
   "metadata": {},
   "source": [
    "Extracting image dimensions into a column 'image_dimension'"
   ]
  },
  {
   "cell_type": "code",
   "execution_count": 10,
   "metadata": {},
   "outputs": [],
   "source": [
    "from PIL import Image\n",
    "import numpy as np\n",
    "\n",
    "def get_image_dimensions(image_path):\n",
    "     try: \n",
    "         with Image.open(image_path) as img:\n",
    "             return img.size          # Returns (width, height) \n",
    "     except Exception as e: \n",
    "         print(f\"Error opening image {image_path}: {e}\") \n",
    "         return None          # Return None if there's an error      "
   ]
  },
  {
   "cell_type": "markdown",
   "metadata": {},
   "source": [
    "Extracting pixel from images into a column 'image_pixel'"
   ]
  },
  {
   "cell_type": "code",
   "execution_count": 11,
   "metadata": {},
   "outputs": [],
   "source": [
    "from PIL import Image\n",
    "import numpy as np\n",
    "\n",
    "def get_image_pixels(image_path):\n",
    "     try: \n",
    "         with Image.open(image_path) as img:\n",
    "             img_array = np.array(img)\n",
    "             return img_array          # Returns (width, height) \n",
    "     except Exception as e: \n",
    "         print(f\"Error opening image {image_path}: {e}\") \n",
    "         return None          # Return None if there's an error"
   ]
  },
  {
   "cell_type": "markdown",
   "metadata": {},
   "source": [
    "Extracting text from the images"
   ]
  },
  {
   "cell_type": "code",
   "execution_count": 12,
   "metadata": {},
   "outputs": [],
   "source": [
    "import cv2\n",
    "def preprocess_image(image_path):\n",
    "    img_cv = cv2.imread(image_path)\n",
    "    if img_cv is None:\n",
    "        return None\n",
    "    \n",
    "    gray = cv2.cvtColor(img_cv, cv2.COLOR_BGR2GRAY)\n",
    "\n",
    "    gray = cv2.GaussianBlur(gray, (5, 5), 0)\n",
    "    \n",
    "    # Apply thresholding to get a binary image\n",
    "    _, thresh = cv2.threshold(gray, 150, 255, cv2.THRESH_BINARY)\n",
    "\n",
    "    return thresh\n",
    "\n",
    "\n",
    "\n",
    "def extract_text_from_image(image_path):\n",
    "    processed_image = preprocess_image(image_path)\n",
    "    if processed_image is None:\n",
    "        return \"Image not found\"\n",
    "\n",
    "    text = pytesseract.image_to_string(processed_image)\n",
    "\n",
    "    return text.strip()\n"
   ]
  },
  {
   "cell_type": "markdown",
   "metadata": {},
   "source": [
    "Finding blank image files"
   ]
  },
  {
   "cell_type": "code",
   "execution_count": 13,
   "metadata": {},
   "outputs": [],
   "source": [
    "import cv2\n",
    "import numpy as np\n",
    "\n",
    "def is_uniform_image(image_path):\n",
    "    # Read the image\n",
    "    img = cv2.imread(image_path)\n",
    "    if img is None:\n",
    "        return True  # Image not found \n",
    "\n",
    "    # Get the shape of the image\n",
    "    height, width, channels = img.shape\n",
    "\n",
    "    # Extract the first pixel value\n",
    "    first_pixel_value = img[0, 0]\n",
    "\n",
    "    # Check if all pixels have the same value as the first pixel\n",
    "    # Using NumPy's array operations to compare all pixel values\n",
    "    if np.all(img == first_pixel_value):\n",
    "        return True  # The image is uniform (all pixels are the same i.e., it is solid color image)\n",
    "    \n",
    "    return False  # The image is not uniform (Image is present)"
   ]
  },
  {
   "cell_type": "markdown",
   "metadata": {},
   "source": [
    "Measuring sharpness of product images (calculating Laplacian variance)"
   ]
  },
  {
   "cell_type": "code",
   "execution_count": 14,
   "metadata": {},
   "outputs": [],
   "source": [
    "import cv2\n",
    "import numpy as np\n",
    "\n",
    "def calculate_sharpness(image_path):\n",
    "    # Load the image\n",
    "    image = cv2.imread(image_path)\n",
    "    \n",
    "    # Check if the image is loaded correctly\n",
    "    if image is None:\n",
    "        print(\"Error: Could not open or find the image.\")\n",
    "        return None\n",
    "    \n",
    "    # Convert the image to grayscale\n",
    "    gray_image = cv2.cvtColor(image, cv2.COLOR_BGR2GRAY)\n",
    "    \n",
    "    # Apply the Laplacian filter\n",
    "    laplacian = cv2.Laplacian(gray_image, cv2.CV_64F)\n",
    "    \n",
    "    # Calculate the variance\n",
    "    variance = laplacian.var()\n",
    "    \n",
    "    return variance\n",
    "\n"
   ]
  },
  {
   "cell_type": "markdown",
   "metadata": {},
   "source": [
    " #Create a new column for image_dimensions, image_pixel, extracted_text and image_is_blank for df1 and saved as df1_image_process.csv"
   ]
  },
  {
   "cell_type": "code",
   "execution_count": 15,
   "metadata": {},
   "outputs": [],
   "source": [
    "df1['image_dimension'] = df1['image_path'].apply(get_image_dimensions)"
   ]
  },
  {
   "cell_type": "code",
   "execution_count": 16,
   "metadata": {},
   "outputs": [
    {
     "ename": "KeyboardInterrupt",
     "evalue": "",
     "output_type": "error",
     "traceback": [
      "\u001b[1;31m---------------------------------------------------------------------------\u001b[0m",
      "\u001b[1;31mKeyboardInterrupt\u001b[0m                         Traceback (most recent call last)",
      "Cell \u001b[1;32mIn[16], line 1\u001b[0m\n\u001b[1;32m----> 1\u001b[0m df1[\u001b[38;5;124m'\u001b[39m\u001b[38;5;124mimage_pixel\u001b[39m\u001b[38;5;124m'\u001b[39m] \u001b[38;5;241m=\u001b[39m \u001b[43mdf1\u001b[49m\u001b[43m[\u001b[49m\u001b[38;5;124;43m'\u001b[39;49m\u001b[38;5;124;43mimage_path\u001b[39;49m\u001b[38;5;124;43m'\u001b[39;49m\u001b[43m]\u001b[49m\u001b[38;5;241;43m.\u001b[39;49m\u001b[43mapply\u001b[49m\u001b[43m(\u001b[49m\u001b[43mget_image_pixels\u001b[49m\u001b[43m)\u001b[49m\n",
      "File \u001b[1;32mc:\\Users\\PC\\Desktop\\Bala\\Datascientest\\Rakuton\\project\\venv\\Lib\\site-packages\\pandas\\core\\series.py:4924\u001b[0m, in \u001b[0;36mSeries.apply\u001b[1;34m(self, func, convert_dtype, args, by_row, **kwargs)\u001b[0m\n\u001b[0;32m   4789\u001b[0m \u001b[38;5;28;01mdef\u001b[39;00m \u001b[38;5;21mapply\u001b[39m(\n\u001b[0;32m   4790\u001b[0m     \u001b[38;5;28mself\u001b[39m,\n\u001b[0;32m   4791\u001b[0m     func: AggFuncType,\n\u001b[1;32m   (...)\u001b[0m\n\u001b[0;32m   4796\u001b[0m     \u001b[38;5;241m*\u001b[39m\u001b[38;5;241m*\u001b[39mkwargs,\n\u001b[0;32m   4797\u001b[0m ) \u001b[38;5;241m-\u001b[39m\u001b[38;5;241m>\u001b[39m DataFrame \u001b[38;5;241m|\u001b[39m Series:\n\u001b[0;32m   4798\u001b[0m \u001b[38;5;250m    \u001b[39m\u001b[38;5;124;03m\"\"\"\u001b[39;00m\n\u001b[0;32m   4799\u001b[0m \u001b[38;5;124;03m    Invoke function on values of Series.\u001b[39;00m\n\u001b[0;32m   4800\u001b[0m \n\u001b[1;32m   (...)\u001b[0m\n\u001b[0;32m   4915\u001b[0m \u001b[38;5;124;03m    dtype: float64\u001b[39;00m\n\u001b[0;32m   4916\u001b[0m \u001b[38;5;124;03m    \"\"\"\u001b[39;00m\n\u001b[0;32m   4917\u001b[0m     \u001b[38;5;28;01mreturn\u001b[39;00m \u001b[43mSeriesApply\u001b[49m\u001b[43m(\u001b[49m\n\u001b[0;32m   4918\u001b[0m \u001b[43m        \u001b[49m\u001b[38;5;28;43mself\u001b[39;49m\u001b[43m,\u001b[49m\n\u001b[0;32m   4919\u001b[0m \u001b[43m        \u001b[49m\u001b[43mfunc\u001b[49m\u001b[43m,\u001b[49m\n\u001b[0;32m   4920\u001b[0m \u001b[43m        \u001b[49m\u001b[43mconvert_dtype\u001b[49m\u001b[38;5;241;43m=\u001b[39;49m\u001b[43mconvert_dtype\u001b[49m\u001b[43m,\u001b[49m\n\u001b[0;32m   4921\u001b[0m \u001b[43m        \u001b[49m\u001b[43mby_row\u001b[49m\u001b[38;5;241;43m=\u001b[39;49m\u001b[43mby_row\u001b[49m\u001b[43m,\u001b[49m\n\u001b[0;32m   4922\u001b[0m \u001b[43m        \u001b[49m\u001b[43margs\u001b[49m\u001b[38;5;241;43m=\u001b[39;49m\u001b[43margs\u001b[49m\u001b[43m,\u001b[49m\n\u001b[0;32m   4923\u001b[0m \u001b[43m        \u001b[49m\u001b[43mkwargs\u001b[49m\u001b[38;5;241;43m=\u001b[39;49m\u001b[43mkwargs\u001b[49m\u001b[43m,\u001b[49m\n\u001b[1;32m-> 4924\u001b[0m \u001b[43m    \u001b[49m\u001b[43m)\u001b[49m\u001b[38;5;241;43m.\u001b[39;49m\u001b[43mapply\u001b[49m\u001b[43m(\u001b[49m\u001b[43m)\u001b[49m\n",
      "File \u001b[1;32mc:\\Users\\PC\\Desktop\\Bala\\Datascientest\\Rakuton\\project\\venv\\Lib\\site-packages\\pandas\\core\\apply.py:1427\u001b[0m, in \u001b[0;36mSeriesApply.apply\u001b[1;34m(self)\u001b[0m\n\u001b[0;32m   1424\u001b[0m     \u001b[38;5;28;01mreturn\u001b[39;00m \u001b[38;5;28mself\u001b[39m\u001b[38;5;241m.\u001b[39mapply_compat()\n\u001b[0;32m   1426\u001b[0m \u001b[38;5;66;03m# self.func is Callable\u001b[39;00m\n\u001b[1;32m-> 1427\u001b[0m \u001b[38;5;28;01mreturn\u001b[39;00m \u001b[38;5;28;43mself\u001b[39;49m\u001b[38;5;241;43m.\u001b[39;49m\u001b[43mapply_standard\u001b[49m\u001b[43m(\u001b[49m\u001b[43m)\u001b[49m\n",
      "File \u001b[1;32mc:\\Users\\PC\\Desktop\\Bala\\Datascientest\\Rakuton\\project\\venv\\Lib\\site-packages\\pandas\\core\\apply.py:1507\u001b[0m, in \u001b[0;36mSeriesApply.apply_standard\u001b[1;34m(self)\u001b[0m\n\u001b[0;32m   1501\u001b[0m \u001b[38;5;66;03m# row-wise access\u001b[39;00m\n\u001b[0;32m   1502\u001b[0m \u001b[38;5;66;03m# apply doesn't have a `na_action` keyword and for backward compat reasons\u001b[39;00m\n\u001b[0;32m   1503\u001b[0m \u001b[38;5;66;03m# we need to give `na_action=\"ignore\"` for categorical data.\u001b[39;00m\n\u001b[0;32m   1504\u001b[0m \u001b[38;5;66;03m# TODO: remove the `na_action=\"ignore\"` when that default has been changed in\u001b[39;00m\n\u001b[0;32m   1505\u001b[0m \u001b[38;5;66;03m#  Categorical (GH51645).\u001b[39;00m\n\u001b[0;32m   1506\u001b[0m action \u001b[38;5;241m=\u001b[39m \u001b[38;5;124m\"\u001b[39m\u001b[38;5;124mignore\u001b[39m\u001b[38;5;124m\"\u001b[39m \u001b[38;5;28;01mif\u001b[39;00m \u001b[38;5;28misinstance\u001b[39m(obj\u001b[38;5;241m.\u001b[39mdtype, CategoricalDtype) \u001b[38;5;28;01melse\u001b[39;00m \u001b[38;5;28;01mNone\u001b[39;00m\n\u001b[1;32m-> 1507\u001b[0m mapped \u001b[38;5;241m=\u001b[39m \u001b[43mobj\u001b[49m\u001b[38;5;241;43m.\u001b[39;49m\u001b[43m_map_values\u001b[49m\u001b[43m(\u001b[49m\n\u001b[0;32m   1508\u001b[0m \u001b[43m    \u001b[49m\u001b[43mmapper\u001b[49m\u001b[38;5;241;43m=\u001b[39;49m\u001b[43mcurried\u001b[49m\u001b[43m,\u001b[49m\u001b[43m \u001b[49m\u001b[43mna_action\u001b[49m\u001b[38;5;241;43m=\u001b[39;49m\u001b[43maction\u001b[49m\u001b[43m,\u001b[49m\u001b[43m \u001b[49m\u001b[43mconvert\u001b[49m\u001b[38;5;241;43m=\u001b[39;49m\u001b[38;5;28;43mself\u001b[39;49m\u001b[38;5;241;43m.\u001b[39;49m\u001b[43mconvert_dtype\u001b[49m\n\u001b[0;32m   1509\u001b[0m \u001b[43m\u001b[49m\u001b[43m)\u001b[49m\n\u001b[0;32m   1511\u001b[0m \u001b[38;5;28;01mif\u001b[39;00m \u001b[38;5;28mlen\u001b[39m(mapped) \u001b[38;5;129;01mand\u001b[39;00m \u001b[38;5;28misinstance\u001b[39m(mapped[\u001b[38;5;241m0\u001b[39m], ABCSeries):\n\u001b[0;32m   1512\u001b[0m     \u001b[38;5;66;03m# GH#43986 Need to do list(mapped) in order to get treated as nested\u001b[39;00m\n\u001b[0;32m   1513\u001b[0m     \u001b[38;5;66;03m#  See also GH#25959 regarding EA support\u001b[39;00m\n\u001b[0;32m   1514\u001b[0m     \u001b[38;5;28;01mreturn\u001b[39;00m obj\u001b[38;5;241m.\u001b[39m_constructor_expanddim(\u001b[38;5;28mlist\u001b[39m(mapped), index\u001b[38;5;241m=\u001b[39mobj\u001b[38;5;241m.\u001b[39mindex)\n",
      "File \u001b[1;32mc:\\Users\\PC\\Desktop\\Bala\\Datascientest\\Rakuton\\project\\venv\\Lib\\site-packages\\pandas\\core\\base.py:921\u001b[0m, in \u001b[0;36mIndexOpsMixin._map_values\u001b[1;34m(self, mapper, na_action, convert)\u001b[0m\n\u001b[0;32m    918\u001b[0m \u001b[38;5;28;01mif\u001b[39;00m \u001b[38;5;28misinstance\u001b[39m(arr, ExtensionArray):\n\u001b[0;32m    919\u001b[0m     \u001b[38;5;28;01mreturn\u001b[39;00m arr\u001b[38;5;241m.\u001b[39mmap(mapper, na_action\u001b[38;5;241m=\u001b[39mna_action)\n\u001b[1;32m--> 921\u001b[0m \u001b[38;5;28;01mreturn\u001b[39;00m \u001b[43malgorithms\u001b[49m\u001b[38;5;241;43m.\u001b[39;49m\u001b[43mmap_array\u001b[49m\u001b[43m(\u001b[49m\u001b[43marr\u001b[49m\u001b[43m,\u001b[49m\u001b[43m \u001b[49m\u001b[43mmapper\u001b[49m\u001b[43m,\u001b[49m\u001b[43m \u001b[49m\u001b[43mna_action\u001b[49m\u001b[38;5;241;43m=\u001b[39;49m\u001b[43mna_action\u001b[49m\u001b[43m,\u001b[49m\u001b[43m \u001b[49m\u001b[43mconvert\u001b[49m\u001b[38;5;241;43m=\u001b[39;49m\u001b[43mconvert\u001b[49m\u001b[43m)\u001b[49m\n",
      "File \u001b[1;32mc:\\Users\\PC\\Desktop\\Bala\\Datascientest\\Rakuton\\project\\venv\\Lib\\site-packages\\pandas\\core\\algorithms.py:1743\u001b[0m, in \u001b[0;36mmap_array\u001b[1;34m(arr, mapper, na_action, convert)\u001b[0m\n\u001b[0;32m   1741\u001b[0m values \u001b[38;5;241m=\u001b[39m arr\u001b[38;5;241m.\u001b[39mastype(\u001b[38;5;28mobject\u001b[39m, copy\u001b[38;5;241m=\u001b[39m\u001b[38;5;28;01mFalse\u001b[39;00m)\n\u001b[0;32m   1742\u001b[0m \u001b[38;5;28;01mif\u001b[39;00m na_action \u001b[38;5;129;01mis\u001b[39;00m \u001b[38;5;28;01mNone\u001b[39;00m:\n\u001b[1;32m-> 1743\u001b[0m     \u001b[38;5;28;01mreturn\u001b[39;00m \u001b[43mlib\u001b[49m\u001b[38;5;241;43m.\u001b[39;49m\u001b[43mmap_infer\u001b[49m\u001b[43m(\u001b[49m\u001b[43mvalues\u001b[49m\u001b[43m,\u001b[49m\u001b[43m \u001b[49m\u001b[43mmapper\u001b[49m\u001b[43m,\u001b[49m\u001b[43m \u001b[49m\u001b[43mconvert\u001b[49m\u001b[38;5;241;43m=\u001b[39;49m\u001b[43mconvert\u001b[49m\u001b[43m)\u001b[49m\n\u001b[0;32m   1744\u001b[0m \u001b[38;5;28;01melse\u001b[39;00m:\n\u001b[0;32m   1745\u001b[0m     \u001b[38;5;28;01mreturn\u001b[39;00m lib\u001b[38;5;241m.\u001b[39mmap_infer_mask(\n\u001b[0;32m   1746\u001b[0m         values, mapper, mask\u001b[38;5;241m=\u001b[39misna(values)\u001b[38;5;241m.\u001b[39mview(np\u001b[38;5;241m.\u001b[39muint8), convert\u001b[38;5;241m=\u001b[39mconvert\n\u001b[0;32m   1747\u001b[0m     )\n",
      "File \u001b[1;32mlib.pyx:2972\u001b[0m, in \u001b[0;36mpandas._libs.lib.map_infer\u001b[1;34m()\u001b[0m\n",
      "Cell \u001b[1;32mIn[11], line 6\u001b[0m, in \u001b[0;36mget_image_pixels\u001b[1;34m(image_path)\u001b[0m\n\u001b[0;32m      4\u001b[0m \u001b[38;5;28;01mdef\u001b[39;00m \u001b[38;5;21mget_image_pixels\u001b[39m(image_path):\n\u001b[0;32m      5\u001b[0m      \u001b[38;5;28;01mtry\u001b[39;00m: \n\u001b[1;32m----> 6\u001b[0m          \u001b[38;5;28;01mwith\u001b[39;00m \u001b[43mImage\u001b[49m\u001b[38;5;241;43m.\u001b[39;49m\u001b[43mopen\u001b[49m\u001b[43m(\u001b[49m\u001b[43mimage_path\u001b[49m\u001b[43m)\u001b[49m \u001b[38;5;28;01mas\u001b[39;00m img:\n\u001b[0;32m      7\u001b[0m              img_array \u001b[38;5;241m=\u001b[39m np\u001b[38;5;241m.\u001b[39marray(img)\n\u001b[0;32m      8\u001b[0m              \u001b[38;5;28;01mreturn\u001b[39;00m img_array          \u001b[38;5;66;03m# Returns (width, height) \u001b[39;00m\n",
      "File \u001b[1;32mc:\\Users\\PC\\Desktop\\Bala\\Datascientest\\Rakuton\\project\\venv\\Lib\\site-packages\\PIL\\Image.py:3428\u001b[0m, in \u001b[0;36mopen\u001b[1;34m(fp, mode, formats)\u001b[0m\n\u001b[0;32m   3426\u001b[0m filename: \u001b[38;5;28mstr\u001b[39m \u001b[38;5;241m|\u001b[39m \u001b[38;5;28mbytes\u001b[39m \u001b[38;5;241m=\u001b[39m \u001b[38;5;124m\"\u001b[39m\u001b[38;5;124m\"\u001b[39m\n\u001b[0;32m   3427\u001b[0m \u001b[38;5;28;01mif\u001b[39;00m is_path(fp):\n\u001b[1;32m-> 3428\u001b[0m     filename \u001b[38;5;241m=\u001b[39m \u001b[43mos\u001b[49m\u001b[38;5;241;43m.\u001b[39;49m\u001b[43mpath\u001b[49m\u001b[38;5;241;43m.\u001b[39;49m\u001b[43mrealpath\u001b[49m\u001b[43m(\u001b[49m\u001b[43mos\u001b[49m\u001b[38;5;241;43m.\u001b[39;49m\u001b[43mfspath\u001b[49m\u001b[43m(\u001b[49m\u001b[43mfp\u001b[49m\u001b[43m)\u001b[49m\u001b[43m)\u001b[49m\n\u001b[0;32m   3430\u001b[0m \u001b[38;5;28;01mif\u001b[39;00m filename:\n\u001b[0;32m   3431\u001b[0m     fp \u001b[38;5;241m=\u001b[39m builtins\u001b[38;5;241m.\u001b[39mopen(filename, \u001b[38;5;124m\"\u001b[39m\u001b[38;5;124mrb\u001b[39m\u001b[38;5;124m\"\u001b[39m)\n",
      "File \u001b[1;32m<frozen ntpath>:696\u001b[0m, in \u001b[0;36mrealpath\u001b[1;34m(path, strict)\u001b[0m\n",
      "\u001b[1;31mKeyboardInterrupt\u001b[0m: "
     ]
    }
   ],
   "source": [
    "df1['image_pixel'] = df1['image_path'].apply(get_image_pixels)"
   ]
  },
  {
   "cell_type": "code",
   "execution_count": null,
   "metadata": {},
   "outputs": [],
   "source": [
    "df1[\"image_is_blank\"] = df1[\"image_path\"].apply(is_uniform_image)"
   ]
  },
  {
   "cell_type": "code",
   "execution_count": null,
   "metadata": {},
   "outputs": [],
   "source": [
    "df1['extracted_text']= df1['image_path'].apply(extract_text_from_image)"
   ]
  },
  {
   "cell_type": "code",
   "execution_count": null,
   "metadata": {},
   "outputs": [],
   "source": [
    "df1['sharpness_score']= df1['image_path'].apply(calculate_sharpness)"
   ]
  },
  {
   "cell_type": "code",
   "execution_count": null,
   "metadata": {},
   "outputs": [],
   "source": [
    "df1.to_csv(\"df1_image_processed.csv\")"
   ]
  },
  {
   "cell_type": "markdown",
   "metadata": {},
   "source": [
    "#Create a new column for image_dimensions, image_pixel and image_is_blank for df2 and saved as df2_image_process.csv"
   ]
  },
  {
   "cell_type": "code",
   "execution_count": null,
   "metadata": {},
   "outputs": [],
   "source": [
    "df2['image_dimension'] = df2['image_path'].apply(get_image_dimensions)"
   ]
  },
  {
   "cell_type": "code",
   "execution_count": null,
   "metadata": {},
   "outputs": [],
   "source": [
    "df2['image_pixel'] = df2['image_path'].apply(get_image_pixels)"
   ]
  },
  {
   "cell_type": "code",
   "execution_count": null,
   "metadata": {},
   "outputs": [],
   "source": [
    "df2[\"image_is_blank\"] = df2[\"image_path\"].apply(is_uniform_image)"
   ]
  },
  {
   "cell_type": "code",
   "execution_count": null,
   "metadata": {},
   "outputs": [],
   "source": [
    "df2['extracted_text']= df2['image_path'].apply(extract_text_from_image)\n"
   ]
  },
  {
   "cell_type": "code",
   "execution_count": null,
   "metadata": {},
   "outputs": [],
   "source": [
    "df2['sharpness_score']= df2['image_path'].apply(calculate_sharpness)"
   ]
  },
  {
   "cell_type": "code",
   "execution_count": null,
   "metadata": {},
   "outputs": [
    {
     "name": "stdout",
     "output_type": "stream",
     "text": [
      "<class 'pandas.core.frame.DataFrame'>\n",
      "RangeIndex: 21229 entries, 21229 to 42457\n",
      "Data columns (total 7 columns):\n",
      " #   Column           Non-Null Count  Dtype \n",
      "---  ------           --------------  ----- \n",
      " 0   image_name       21229 non-null  object\n",
      " 1   image_path       21229 non-null  object\n",
      " 2   productid        21229 non-null  object\n",
      " 3   imageid          21229 non-null  object\n",
      " 4   image_dimension  21229 non-null  object\n",
      " 5   image_pixel      21229 non-null  object\n",
      " 6   image_is_blank   21229 non-null  bool  \n",
      "dtypes: bool(1), object(6)\n",
      "memory usage: 1016.0+ KB\n"
     ]
    },
    {
     "data": {
      "text/plain": [
       "None"
      ]
     },
     "metadata": {},
     "output_type": "display_data"
    },
    {
     "data": {
      "text/plain": [
       "array([False])"
      ]
     },
     "metadata": {},
     "output_type": "display_data"
    }
   ],
   "source": [
    "display(df2.info())\n",
    "display(df2['image_is_blank'].unique())"
   ]
  },
  {
   "cell_type": "code",
   "execution_count": null,
   "metadata": {},
   "outputs": [],
   "source": [
    "df2.to_csv(\"df2_image_processed.csv\")"
   ]
  },
  {
   "cell_type": "markdown",
   "metadata": {},
   "source": [
    "#Create a new column image_dimensions, image_pixel and image_is_blank for df3 and saved as df3_image_process.csv"
   ]
  },
  {
   "cell_type": "code",
   "execution_count": null,
   "metadata": {},
   "outputs": [],
   "source": [
    "df3['image_dimension'] = df3['image_path'].apply(get_image_dimensions)"
   ]
  },
  {
   "cell_type": "code",
   "execution_count": null,
   "metadata": {},
   "outputs": [],
   "source": [
    "df3['image_pixel'] = df3['image_path'].apply(get_image_pixels)"
   ]
  },
  {
   "cell_type": "code",
   "execution_count": null,
   "metadata": {},
   "outputs": [],
   "source": [
    "df3[\"image_is_blank\"] = df3[\"image_path\"].apply(is_uniform_image)"
   ]
  },
  {
   "cell_type": "code",
   "execution_count": null,
   "metadata": {},
   "outputs": [],
   "source": [
    "df3['extracted_text']= df3['image_path'].apply(extract_text_from_image)\n"
   ]
  },
  {
   "cell_type": "code",
   "execution_count": null,
   "metadata": {},
   "outputs": [],
   "source": [
    "df3['sharpness_score']= df3['image_path'].apply(calculate_sharpness)"
   ]
  },
  {
   "cell_type": "code",
   "execution_count": null,
   "metadata": {},
   "outputs": [
    {
     "name": "stdout",
     "output_type": "stream",
     "text": [
      "<class 'pandas.core.frame.DataFrame'>\n",
      "RangeIndex: 21229 entries, 42458 to 63686\n",
      "Data columns (total 7 columns):\n",
      " #   Column           Non-Null Count  Dtype \n",
      "---  ------           --------------  ----- \n",
      " 0   image_name       21229 non-null  object\n",
      " 1   image_path       21229 non-null  object\n",
      " 2   productid        21229 non-null  object\n",
      " 3   imageid          21229 non-null  object\n",
      " 4   image_dimension  21229 non-null  object\n",
      " 5   image_pixel      21229 non-null  object\n",
      " 6   image_is_blank   21229 non-null  bool  \n",
      "dtypes: bool(1), object(6)\n",
      "memory usage: 1016.0+ KB\n"
     ]
    },
    {
     "data": {
      "text/plain": [
       "None"
      ]
     },
     "metadata": {},
     "output_type": "display_data"
    },
    {
     "data": {
      "text/plain": [
       "array([False,  True])"
      ]
     },
     "metadata": {},
     "output_type": "display_data"
    }
   ],
   "source": [
    "display(df3.info())\n",
    "display(df3['image_is_blank'].unique())"
   ]
  },
  {
   "cell_type": "code",
   "execution_count": null,
   "metadata": {},
   "outputs": [],
   "source": [
    "df3.to_csv(\"df3_image_processed.csv\")"
   ]
  },
  {
   "cell_type": "markdown",
   "metadata": {},
   "source": [
    "#Create a new column image_dimensions, image_pixel and image_is_blank for df4 and saved as df4_image_process.csv"
   ]
  },
  {
   "cell_type": "code",
   "execution_count": null,
   "metadata": {},
   "outputs": [],
   "source": [
    "df4['image_dimension'] = df4['image_path'].apply(get_image_dimensions)"
   ]
  },
  {
   "cell_type": "code",
   "execution_count": null,
   "metadata": {},
   "outputs": [],
   "source": [
    "df4['image_pixel'] = df4['image_path'].apply(get_image_pixels)"
   ]
  },
  {
   "cell_type": "code",
   "execution_count": null,
   "metadata": {},
   "outputs": [],
   "source": [
    "df4[\"image_is_blank\"] = df4[\"image_path\"].apply(is_uniform_image)"
   ]
  },
  {
   "cell_type": "code",
   "execution_count": null,
   "metadata": {},
   "outputs": [],
   "source": [
    "df4['extracted_text']= df4['image_path'].apply(extract_text_from_image)\n"
   ]
  },
  {
   "cell_type": "code",
   "execution_count": null,
   "metadata": {},
   "outputs": [],
   "source": [
    "df4['sharpness_score']= df4['image_path'].apply(calculate_sharpness)"
   ]
  },
  {
   "cell_type": "code",
   "execution_count": null,
   "metadata": {},
   "outputs": [
    {
     "name": "stdout",
     "output_type": "stream",
     "text": [
      "<class 'pandas.core.frame.DataFrame'>\n",
      "RangeIndex: 21229 entries, 63687 to 84915\n",
      "Data columns (total 7 columns):\n",
      " #   Column           Non-Null Count  Dtype \n",
      "---  ------           --------------  ----- \n",
      " 0   image_name       21229 non-null  object\n",
      " 1   image_path       21229 non-null  object\n",
      " 2   productid        21229 non-null  object\n",
      " 3   imageid          21229 non-null  object\n",
      " 4   image_dimension  21229 non-null  object\n",
      " 5   image_pixel      21229 non-null  object\n",
      " 6   image_is_blank   21229 non-null  bool  \n",
      "dtypes: bool(1), object(6)\n",
      "memory usage: 1016.0+ KB\n"
     ]
    },
    {
     "data": {
      "text/plain": [
       "None"
      ]
     },
     "metadata": {},
     "output_type": "display_data"
    },
    {
     "data": {
      "text/plain": [
       "array([False])"
      ]
     },
     "metadata": {},
     "output_type": "display_data"
    }
   ],
   "source": [
    "display(df4.info())\n",
    "display(df4['image_is_blank'].unique())"
   ]
  },
  {
   "cell_type": "code",
   "execution_count": null,
   "metadata": {},
   "outputs": [],
   "source": [
    "df4.to_csv(\"df4_image_processed.csv\")"
   ]
  },
  {
   "cell_type": "markdown",
   "metadata": {},
   "source": [
    "Extracting text from the images"
   ]
  },
  {
   "cell_type": "markdown",
   "metadata": {},
   "source": [
    "Opening the CSV file containing image informations"
   ]
  },
  {
   "cell_type": "code",
   "execution_count": null,
   "metadata": {},
   "outputs": [],
   "source": [
    "import pandas as pd\n",
    "df1 = pd.read_csv(\"df1_image_processed.csv\")\n",
    "df2 = pd.read_csv(\"df2_image_processed.csv\")\n",
    "df3 = pd.read_csv(\"df3_image_processed.csv\")\n",
    "df4 = pd.read_csv(\"df4_image_processed.csv\")"
   ]
  },
  {
   "cell_type": "markdown",
   "metadata": {},
   "source": [
    "Checking for number of blank and solid color images"
   ]
  },
  {
   "cell_type": "code",
   "execution_count": null,
   "metadata": {},
   "outputs": [
    {
     "data": {
      "text/plain": [
       "np.int64(2)"
      ]
     },
     "metadata": {},
     "output_type": "display_data"
    },
    {
     "data": {
      "text/plain": [
       "np.int64(0)"
      ]
     },
     "metadata": {},
     "output_type": "display_data"
    },
    {
     "data": {
      "text/plain": [
       "np.int64(5)"
      ]
     },
     "metadata": {},
     "output_type": "display_data"
    },
    {
     "data": {
      "text/plain": [
       "np.int64(0)"
      ]
     },
     "metadata": {},
     "output_type": "display_data"
    }
   ],
   "source": [
    "#count bool counting, counts the number of True or 1\n",
    "display(df1['image_is_blank'].sum())\n",
    "display(df2['image_is_blank'].sum())\n",
    "display(df3['image_is_blank'].sum())\n",
    "display(df4['image_is_blank'].sum())"
   ]
  },
  {
   "cell_type": "code",
   "execution_count": null,
   "metadata": {},
   "outputs": [
    {
     "name": "stdout",
     "output_type": "stream",
     "text": [
      "<class 'pandas.core.frame.DataFrame'>\n",
      "RangeIndex: 84916 entries, 0 to 84915\n",
      "Data columns (total 8 columns):\n",
      " #   Column           Non-Null Count  Dtype \n",
      "---  ------           --------------  ----- \n",
      " 0   Unnamed: 0       84916 non-null  int64 \n",
      " 1   image_name       84916 non-null  object\n",
      " 2   image_path       84916 non-null  object\n",
      " 3   productid        84916 non-null  int64 \n",
      " 4   imageid          84916 non-null  int64 \n",
      " 5   image_dimension  84916 non-null  object\n",
      " 6   image_pixel      84916 non-null  object\n",
      " 7   image_is_blank   84916 non-null  bool  \n",
      "dtypes: bool(1), int64(3), object(4)\n",
      "memory usage: 4.6+ MB\n"
     ]
    }
   ],
   "source": [
    "df_image = pd.concat([df1, df2, df3, df4], axis=0, ignore_index=True)\n",
    "df_image.info()"
   ]
  },
  {
   "cell_type": "markdown",
   "metadata": {},
   "source": [
    "Categorizing sharpness score"
   ]
  },
  {
   "cell_type": "code",
   "execution_count": null,
   "metadata": {},
   "outputs": [],
   "source": [
    "def categorize_sharpness(sharpness_score):\n",
    "    if sharpness_score >= 200:\n",
    "        return 'Sharp'\n",
    "    elif 100 >= sharpness_score < 200:\n",
    "        return 'Moderately sharp'\n",
    "    else:\n",
    "        return 'Blurry'\n",
    "    \n",
    "df_image['image_quality'] = df_image['sharpness_score'].apply(categorize_sharpness)"
   ]
  },
  {
   "cell_type": "code",
   "execution_count": null,
   "metadata": {},
   "outputs": [
    {
     "data": {
      "text/html": [
       "<div>\n",
       "<style scoped>\n",
       "    .dataframe tbody tr th:only-of-type {\n",
       "        vertical-align: middle;\n",
       "    }\n",
       "\n",
       "    .dataframe tbody tr th {\n",
       "        vertical-align: top;\n",
       "    }\n",
       "\n",
       "    .dataframe thead th {\n",
       "        text-align: right;\n",
       "    }\n",
       "</style>\n",
       "<table border=\"1\" class=\"dataframe\">\n",
       "  <thead>\n",
       "    <tr style=\"text-align: right;\">\n",
       "      <th></th>\n",
       "      <th>Unnamed: 0</th>\n",
       "      <th>image_name</th>\n",
       "      <th>image_path</th>\n",
       "      <th>productid</th>\n",
       "      <th>imageid</th>\n",
       "      <th>image_dimension</th>\n",
       "      <th>image_pixel</th>\n",
       "      <th>image_is_blank</th>\n",
       "    </tr>\n",
       "  </thead>\n",
       "  <tbody>\n",
       "    <tr>\n",
       "      <th>17384</th>\n",
       "      <td>17384</td>\n",
       "      <td>image_1137819811_product_1892606336.jpg</td>\n",
       "      <td>C:/Users/PC/Desktop/Bala/Datascientest/Rakuton...</td>\n",
       "      <td>1892606336</td>\n",
       "      <td>1137819811</td>\n",
       "      <td>(500, 500)</td>\n",
       "      <td>[[[255 255 255]\\n  [255 255 255]\\n  [255 255 2...</td>\n",
       "      <td>True</td>\n",
       "    </tr>\n",
       "    <tr>\n",
       "      <th>17865</th>\n",
       "      <td>17865</td>\n",
       "      <td>image_1142089742_product_884747735.jpg</td>\n",
       "      <td>C:/Users/PC/Desktop/Bala/Datascientest/Rakuton...</td>\n",
       "      <td>884747735</td>\n",
       "      <td>1142089742</td>\n",
       "      <td>(500, 500)</td>\n",
       "      <td>[[[255 255 255]\\n  [255 255 255]\\n  [255 255 2...</td>\n",
       "      <td>True</td>\n",
       "    </tr>\n",
       "    <tr>\n",
       "      <th>43852</th>\n",
       "      <td>43852</td>\n",
       "      <td>image_1263803373_product_3921649686.jpg</td>\n",
       "      <td>C:/Users/PC/Desktop/Bala/Datascientest/Rakuton...</td>\n",
       "      <td>3921649686</td>\n",
       "      <td>1263803373</td>\n",
       "      <td>(500, 500)</td>\n",
       "      <td>[[[176 215 136]\\n  [176 215 136]\\n  [176 215 1...</td>\n",
       "      <td>True</td>\n",
       "    </tr>\n",
       "    <tr>\n",
       "      <th>43853</th>\n",
       "      <td>43853</td>\n",
       "      <td>image_1263803704_product_3921650414.jpg</td>\n",
       "      <td>C:/Users/PC/Desktop/Bala/Datascientest/Rakuton...</td>\n",
       "      <td>3921650414</td>\n",
       "      <td>1263803704</td>\n",
       "      <td>(500, 500)</td>\n",
       "      <td>[[[191 162  62]\\n  [191 162  62]\\n  [191 162  ...</td>\n",
       "      <td>True</td>\n",
       "    </tr>\n",
       "    <tr>\n",
       "      <th>43854</th>\n",
       "      <td>43854</td>\n",
       "      <td>image_1263803707_product_3921650416.jpg</td>\n",
       "      <td>C:/Users/PC/Desktop/Bala/Datascientest/Rakuton...</td>\n",
       "      <td>3921650416</td>\n",
       "      <td>1263803707</td>\n",
       "      <td>(500, 500)</td>\n",
       "      <td>[[[191 162  62]\\n  [191 162  62]\\n  [191 162  ...</td>\n",
       "      <td>True</td>\n",
       "    </tr>\n",
       "    <tr>\n",
       "      <th>47465</th>\n",
       "      <td>47465</td>\n",
       "      <td>image_1271791205_product_3894592691.jpg</td>\n",
       "      <td>C:/Users/PC/Desktop/Bala/Datascientest/Rakuton...</td>\n",
       "      <td>3894592691</td>\n",
       "      <td>1271791205</td>\n",
       "      <td>(500, 500)</td>\n",
       "      <td>[[[255 255 255]\\n  [255 255 255]\\n  [255 255 2...</td>\n",
       "      <td>True</td>\n",
       "    </tr>\n",
       "    <tr>\n",
       "      <th>59884</th>\n",
       "      <td>59884</td>\n",
       "      <td>image_1302249863_product_3793782107.jpg</td>\n",
       "      <td>C:/Users/PC/Desktop/Bala/Datascientest/Rakuton...</td>\n",
       "      <td>3793782107</td>\n",
       "      <td>1302249863</td>\n",
       "      <td>(500, 500)</td>\n",
       "      <td>[[[255 255 255]\\n  [255 255 255]\\n  [255 255 2...</td>\n",
       "      <td>True</td>\n",
       "    </tr>\n",
       "  </tbody>\n",
       "</table>\n",
       "</div>"
      ],
      "text/plain": [
       "       Unnamed: 0                               image_name  \\\n",
       "17384       17384  image_1137819811_product_1892606336.jpg   \n",
       "17865       17865   image_1142089742_product_884747735.jpg   \n",
       "43852       43852  image_1263803373_product_3921649686.jpg   \n",
       "43853       43853  image_1263803704_product_3921650414.jpg   \n",
       "43854       43854  image_1263803707_product_3921650416.jpg   \n",
       "47465       47465  image_1271791205_product_3894592691.jpg   \n",
       "59884       59884  image_1302249863_product_3793782107.jpg   \n",
       "\n",
       "                                              image_path   productid  \\\n",
       "17384  C:/Users/PC/Desktop/Bala/Datascientest/Rakuton...  1892606336   \n",
       "17865  C:/Users/PC/Desktop/Bala/Datascientest/Rakuton...   884747735   \n",
       "43852  C:/Users/PC/Desktop/Bala/Datascientest/Rakuton...  3921649686   \n",
       "43853  C:/Users/PC/Desktop/Bala/Datascientest/Rakuton...  3921650414   \n",
       "43854  C:/Users/PC/Desktop/Bala/Datascientest/Rakuton...  3921650416   \n",
       "47465  C:/Users/PC/Desktop/Bala/Datascientest/Rakuton...  3894592691   \n",
       "59884  C:/Users/PC/Desktop/Bala/Datascientest/Rakuton...  3793782107   \n",
       "\n",
       "          imageid image_dimension  \\\n",
       "17384  1137819811      (500, 500)   \n",
       "17865  1142089742      (500, 500)   \n",
       "43852  1263803373      (500, 500)   \n",
       "43853  1263803704      (500, 500)   \n",
       "43854  1263803707      (500, 500)   \n",
       "47465  1271791205      (500, 500)   \n",
       "59884  1302249863      (500, 500)   \n",
       "\n",
       "                                             image_pixel  image_is_blank  \n",
       "17384  [[[255 255 255]\\n  [255 255 255]\\n  [255 255 2...            True  \n",
       "17865  [[[255 255 255]\\n  [255 255 255]\\n  [255 255 2...            True  \n",
       "43852  [[[176 215 136]\\n  [176 215 136]\\n  [176 215 1...            True  \n",
       "43853  [[[191 162  62]\\n  [191 162  62]\\n  [191 162  ...            True  \n",
       "43854  [[[191 162  62]\\n  [191 162  62]\\n  [191 162  ...            True  \n",
       "47465  [[[255 255 255]\\n  [255 255 255]\\n  [255 255 2...            True  \n",
       "59884  [[[255 255 255]\\n  [255 255 255]\\n  [255 255 2...            True  "
      ]
     },
     "execution_count": 20,
     "metadata": {},
     "output_type": "execute_result"
    }
   ],
   "source": [
    "df_noimage = df_image.loc[df_image['image_is_blank'] == True]\n",
    "df_noimage"
   ]
  },
  {
   "cell_type": "code",
   "execution_count": null,
   "metadata": {},
   "outputs": [],
   "source": [
    "df_image.to_csv(\"df_image_20241024.csv\")"
   ]
  },
  {
   "cell_type": "code",
   "execution_count": null,
   "metadata": {},
   "outputs": [],
   "source": []
  }
 ],
 "metadata": {
  "kernelspec": {
   "display_name": "venv",
   "language": "python",
   "name": "python3"
  },
  "language_info": {
   "codemirror_mode": {
    "name": "ipython",
    "version": 3
   },
   "file_extension": ".py",
   "mimetype": "text/x-python",
   "name": "python",
   "nbconvert_exporter": "python",
   "pygments_lexer": "ipython3",
   "version": "3.11.5"
  }
 },
 "nbformat": 4,
 "nbformat_minor": 2
}
